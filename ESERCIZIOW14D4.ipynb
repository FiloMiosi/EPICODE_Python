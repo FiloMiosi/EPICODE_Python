{
 "cells": [
  {
   "cell_type": "code",
   "execution_count": 2,
   "id": "13f77f4f-1e16-4873-a5ac-5d904d3b0985",
   "metadata": {},
   "outputs": [
    {
     "name": "stdout",
     "output_type": "stream",
     "text": [
      "Defaulting to user installation because normal site-packages is not writeable\n",
      "Requirement already satisfied: pyMySQL in c:\\users\\mios9\\appdata\\roaming\\python\\python311\\site-packages (1.1.1)\n",
      "Note: you may need to restart the kernel to use updated packages.\n"
     ]
    }
   ],
   "source": [
    "pip install pyMySQL\n"
   ]
  },
  {
   "cell_type": "code",
   "execution_count": 3,
   "id": "a27eae3c-5f04-4a9a-9ee4-696276ddc7bd",
   "metadata": {},
   "outputs": [
    {
     "name": "stdout",
     "output_type": "stream",
     "text": [
      "Defaulting to user installation because normal site-packages is not writeable\n",
      "Requirement already satisfied: SQLAlchemy in c:\\programdata\\anaconda3\\lib\\site-packages (2.0.25)\n",
      "Requirement already satisfied: typing-extensions>=4.6.0 in c:\\programdata\\anaconda3\\lib\\site-packages (from SQLAlchemy) (4.9.0)\n",
      "Requirement already satisfied: greenlet!=0.4.17 in c:\\programdata\\anaconda3\\lib\\site-packages (from SQLAlchemy) (3.0.1)\n",
      "Note: you may need to restart the kernel to use updated packages.\n"
     ]
    }
   ],
   "source": [
    "pip install SQLAlchemy"
   ]
  },
  {
   "cell_type": "code",
   "execution_count": 4,
   "id": "5de14e6e-04f9-457f-9338-5ee68efc8b05",
   "metadata": {},
   "outputs": [
    {
     "name": "stdout",
     "output_type": "stream",
     "text": [
      "Defaulting to user installation because normal site-packages is not writeableNote: you may need to restart the kernel to use updated packages.\n",
      "\n",
      "Requirement already satisfied: python_dotenv in c:\\programdata\\anaconda3\\lib\\site-packages (0.21.0)\n"
     ]
    }
   ],
   "source": [
    "pip install python_dotenv"
   ]
  },
  {
   "cell_type": "code",
   "execution_count": 5,
   "id": "a8c5ddfc-ba79-4da0-a243-f11e1f823c0d",
   "metadata": {},
   "outputs": [
    {
     "data": {
      "text/plain": [
       "False"
      ]
     },
     "execution_count": 5,
     "metadata": {},
     "output_type": "execute_result"
    }
   ],
   "source": [
    "import dotenv\n",
    "dotenv.load_dotenv ()"
   ]
  },
  {
   "cell_type": "code",
   "execution_count": 15,
   "id": "86af2c68-3986-4afe-b30c-3ea1993cef16",
   "metadata": {},
   "outputs": [],
   "source": [
    "dotenv.load_dotenv(dotenv_path= '.env' , override=True)\n",
    "username = \"studente_dapt\"\n",
    "password = \"Ep1c0d3!!D4t4**4n4lys1s\"\n",
    "host = \"epicode-data-pt-mysql.cvetyjye2qbl.eu-central-1.rds.amazonaws.com\"\n",
    "dbname = \"AdventureWorksDW\""
   ]
  },
  {
   "cell_type": "code",
   "execution_count": 19,
   "id": "ac1c232a-9322-41e6-b9a7-1a88dc7fb188",
   "metadata": {},
   "outputs": [],
   "source": [
    "import dotenv\n",
    "import os \n",
    "from sqlalchemy import create_engine\n",
    "import pandas as pd"
   ]
  },
  {
   "cell_type": "code",
   "execution_count": 31,
   "id": "b8a8262e-48e7-4643-8ba6-461e5bcbb647",
   "metadata": {},
   "outputs": [],
   "source": [
    "username = os.getenv (\"username\")\n",
    "password = os.getenv (\"password\")\n",
    "host = os.getenv (\"host\")\n",
    "dbname = os.getenv (\"dbname\")\n",
    "\n",
    "dotenv.load_dotenv()\n",
    "conn_string = \"mysql+pymysql://\" + username + \":\" + password + \"@\" + host + \"/\" + dbname\n",
    "db_engine = create_engine(conn_string)\n",
    "\n",
    "query = \"SELECT * FROM dimproduct\"\n",
    "dimproduct = pd.read_sql(query, db_engine)"
   ]
  },
  {
   "cell_type": "code",
   "execution_count": 32,
   "id": "63c6d941-f1ec-4471-9117-a5ff7073cda9",
   "metadata": {},
   "outputs": [],
   "source": [
    "# Quanti dati ci sono in totale?\n",
    "total_records = dimproduct.shape[0]\n"
   ]
  },
  {
   "cell_type": "code",
   "execution_count": 33,
   "id": "6c5ab833-23c7-48ba-82fa-d400af5117b3",
   "metadata": {},
   "outputs": [
    {
     "name": "stdout",
     "output_type": "stream",
     "text": [
      "606\n"
     ]
    }
   ],
   "source": [
    "print (total_records)"
   ]
  },
  {
   "cell_type": "code",
   "execution_count": 34,
   "id": "6837c349-4395-4162-b31b-ad1d70aa348b",
   "metadata": {},
   "outputs": [],
   "source": [
    "# Quali sono i metadati?\n",
    "metadata = dimproduct.dtypes"
   ]
  },
  {
   "cell_type": "code",
   "execution_count": 35,
   "id": "d4e8ed9a-e71f-4cbb-a377-22220ada3819",
   "metadata": {},
   "outputs": [
    {
     "name": "stdout",
     "output_type": "stream",
     "text": [
      "ProductKey                        int64\n",
      "ProductAlternateKey              object\n",
      "ProductSubcategoryKey           float64\n",
      "WeightUnitMeasureCode            object\n",
      "SizeUnitMeasureCode              object\n",
      "EnglishProductName               object\n",
      "SpanishProductName               object\n",
      "FrenchProductName                object\n",
      "StandardCost                    float64\n",
      "FinishedGoodsFlag                 int64\n",
      "Color                            object\n",
      "SafetyStockLevel                  int64\n",
      "ReorderPoint                      int64\n",
      "ListPrice                       float64\n",
      "Size                             object\n",
      "SizeRange                        object\n",
      "Weight                          float64\n",
      "DaysToManufacture                 int64\n",
      "ProductLine                      object\n",
      "DealerPrice                     float64\n",
      "Class                            object\n",
      "Style                            object\n",
      "ModelName                        object\n",
      "LargePhoto                       object\n",
      "EnglishDescription               object\n",
      "FrenchDescription                object\n",
      "ChineseDescription               object\n",
      "ArabicDescription                object\n",
      "HebrewDescription                object\n",
      "ThaiDescription                  object\n",
      "GermanDescription                object\n",
      "JapaneseDescription              object\n",
      "TurkishDescription               object\n",
      "StartDate                datetime64[ns]\n",
      "EndDate                  datetime64[ns]\n",
      "Status                           object\n",
      "dtype: object\n"
     ]
    }
   ],
   "source": [
    "print (metadata)"
   ]
  },
  {
   "cell_type": "code",
   "execution_count": 37,
   "id": "5a7e321a-ecfc-485b-a20a-43e61a3f0e9b",
   "metadata": {},
   "outputs": [],
   "source": [
    "# Stampa il primo elemento\n",
    "first_element = dimproduct.iloc[0]"
   ]
  },
  {
   "cell_type": "code",
   "execution_count": 38,
   "id": "d9333d1f-97b1-4c4c-b6eb-0992f9791c0a",
   "metadata": {},
   "outputs": [
    {
     "name": "stdout",
     "output_type": "stream",
     "text": [
      "ProductKey                                                               1\n",
      "ProductAlternateKey                                                AR-5381\n",
      "ProductSubcategoryKey                                                  NaN\n",
      "WeightUnitMeasureCode                                                 None\n",
      "SizeUnitMeasureCode                                                   None\n",
      "EnglishProductName                                         Adjustable Race\n",
      "SpanishProductName                                                        \n",
      "FrenchProductName                                                         \n",
      "StandardCost                                                           NaN\n",
      "FinishedGoodsFlag                                                        0\n",
      "Color                                                                   NA\n",
      "SafetyStockLevel                                                      1000\n",
      "ReorderPoint                                                           750\n",
      "ListPrice                                                              NaN\n",
      "Size                                                                  None\n",
      "SizeRange                                                               NA\n",
      "Weight                                                                 NaN\n",
      "DaysToManufacture                                                        0\n",
      "ProductLine                                                           None\n",
      "DealerPrice                                                            NaN\n",
      "Class                                                                 None\n",
      "Style                                                                 None\n",
      "ModelName                                                             None\n",
      "LargePhoto               b'GIF89a\\xf0\\x00\\x95\\x00\\xf7\\x00\\x00\\x00\\x00\\x...\n",
      "EnglishDescription                                                    None\n",
      "FrenchDescription                                                     None\n",
      "ChineseDescription                                                    None\n",
      "ArabicDescription                                                     None\n",
      "HebrewDescription                                                     None\n",
      "ThaiDescription                                                       None\n",
      "GermanDescription                                                     None\n",
      "JapaneseDescription                                                   None\n",
      "TurkishDescription                                                    None\n",
      "StartDate                                              2003-07-01 00:00:00\n",
      "EndDate                                                                NaT\n",
      "Status                                                             Current\n",
      "Name: 0, dtype: object\n"
     ]
    }
   ],
   "source": [
    "print (first_element)"
   ]
  },
  {
   "cell_type": "code",
   "execution_count": 39,
   "id": "548cb1ce-d2ee-46c2-b831-3a5eadc4f083",
   "metadata": {},
   "outputs": [],
   "source": [
    "# Stampa l'ultimo elemento\n",
    "last_element = dimproduct.iloc[-1]"
   ]
  },
  {
   "cell_type": "code",
   "execution_count": 40,
   "id": "f91980f4-3d9b-4229-b486-9f201c0b7574",
   "metadata": {},
   "outputs": [
    {
     "name": "stdout",
     "output_type": "stream",
     "text": [
      "ProductKey                                                             606\n",
      "ProductAlternateKey                                             BK-R19B-52\n",
      "ProductSubcategoryKey                                                  2.0\n",
      "WeightUnitMeasureCode                                                   LB\n",
      "SizeUnitMeasureCode                                                     CM\n",
      "EnglishProductName                                      Road-750 Black, 52\n",
      "SpanishProductName                               Carretera: 750, negra, 52\n",
      "FrenchProductName                               Vélo de route 750 noir, 52\n",
      "StandardCost                                                        343.65\n",
      "FinishedGoodsFlag                                                        1\n",
      "Color                                                                Black\n",
      "SafetyStockLevel                                                       100\n",
      "ReorderPoint                                                            75\n",
      "ListPrice                                                           539.99\n",
      "Size                                                                    52\n",
      "SizeRange                                                         48-52 CM\n",
      "Weight                                                               20.42\n",
      "DaysToManufacture                                                        4\n",
      "ProductLine                                                              R\n",
      "DealerPrice                                                        323.994\n",
      "Class                                                                    L\n",
      "Style                                                                    U\n",
      "ModelName                                                         Road-750\n",
      "LargePhoto               b'GIF89a\\xf0\\x00\\x95\\x00\\xf7\\x00\\x00\\x8avw\\xf7...\n",
      "EnglishDescription       Entry level adult bike; offers a comfortable r...\n",
      "FrenchDescription        Vélo d'adulte d'entrée de gamme ; permet une c...\n",
      "ChineseDescription                       入门级成人自行车；确保越野旅行或公路骑乘的舒适。快拆式车毂和轮缘。\n",
      "ArabicDescription        إنها دراجة مناسبة للمبتدئين من البالغين؛ فهي ت...\n",
      "HebrewDescription        אופני מבוגרים למתחילים; מציעים רכיבה נוחה \"מחו...\n",
      "ThaiDescription          จักรยานระดับเริ่มต้นสำหรับผู้ใหญ่ ให้ความสบายใ...\n",
      "GermanDescription        Ein Erwachsenenrad für Einsteiger; bietet Komf...\n",
      "JapaneseDescription      エントリー レベルに対応する、クロスカントリーにも街への買い物にも快適な、大人の自転車。ハブ...\n",
      "TurkishDescription       \"Başlangıç seviyesinde yetişkin bisikleti, kır...\n",
      "StartDate                                              2013-07-01 00:00:00\n",
      "EndDate                                                                NaT\n",
      "Status                                                             Current\n",
      "Name: 605, dtype: object\n"
     ]
    }
   ],
   "source": [
    "print (last_element)"
   ]
  },
  {
   "cell_type": "code",
   "execution_count": 41,
   "id": "157b49b6-2e25-432c-8cbd-e2f187f660a8",
   "metadata": {},
   "outputs": [],
   "source": [
    "# Stampa cinque elementi a caso\n",
    "random_elements = dimproduct.sample(5)"
   ]
  },
  {
   "cell_type": "code",
   "execution_count": 42,
   "id": "ba48ca11-0f70-4529-b53f-7050c3b05083",
   "metadata": {},
   "outputs": [
    {
     "name": "stdout",
     "output_type": "stream",
     "text": [
      "     ProductKey ProductAlternateKey  ProductSubcategoryKey  \\\n",
      "540         541             TI-T723                   37.0   \n",
      "253         254          FR-R38B-58                   14.0   \n",
      "454         455           SH-M897-X                   22.0   \n",
      "187         188             SA-M237                    NaN   \n",
      "195         196             SD-2342                    NaN   \n",
      "\n",
      "    WeightUnitMeasureCode SizeUnitMeasureCode         EnglishProductName  \\\n",
      "540                  None                None               Touring Tire   \n",
      "253                    LB                  CM  LL Road Frame - Black, 58   \n",
      "454                  None                None    Men's Sports Shorts, XL   \n",
      "187                  None                None  ML Mountain Seat Assembly   \n",
      "195                  None                None            LL Spindle/Axle   \n",
      "\n",
      "                               SpanishProductName  \\\n",
      "540                             Cubierta de paseo   \n",
      "253             Cuadro de carretera GB: negro, 58   \n",
      "454  Pantalones cortos de deporte para hombre, SG   \n",
      "187                                                 \n",
      "195                                                 \n",
      "\n",
      "                             FrenchProductName  StandardCost  \\\n",
      "540                  Pneu de vélo de randonnée         10.84   \n",
      "253       Cadre de vélo de route LL - noir, 58        170.14   \n",
      "454  Cuissards de route pour hommes, taille XL         24.75   \n",
      "187                                                      NaN   \n",
      "195                                                      NaN   \n",
      "\n",
      "     FinishedGoodsFlag  ...                    ChineseDescription  \\\n",
      "540                  1  ...                                高密度橡皮。   \n",
      "253                  1  ...  LL 车架提供了安全舒适的骑乘，经济实惠的铝制车架提供了卓越的避震功能。   \n",
      "454                  1  ...         男士八拼片竞赛用运动短裤 – 氨纶材质、弹性腰带并带腿夹。   \n",
      "187                  0  ...                                  None   \n",
      "195                  0  ...                                  None   \n",
      "\n",
      "                                     ArabicDescription  \\\n",
      "540                                 مطاط عالي الكثافة.   \n",
      "253  يوفر الهيكل LL Frame قيادة آمنة ومريحة، مع توف...   \n",
      "454  قمصان سباق رجالي ذات ثمانية أقسام، من قماش سبا...   \n",
      "187                                               None   \n",
      "195                                               None   \n",
      "\n",
      "                                     HebrewDescription  \\\n",
      "540                                גומי בצפיפות גבוהה.   \n",
      "253  מסגרת ה- LL מספקת רכיבה בטוחה ונוחה ועם זאת, מ...   \n",
      "454  מכנסי גברים קצרים לתחרויות, 8 חלקים – עשויים ס...   \n",
      "187                                               None   \n",
      "195                                               None   \n",
      "\n",
      "                                       ThaiDescription  \\\n",
      "540                                  ยางความหนาแน่นสูง   \n",
      "253  เฟรม LL ให้ความปลอดภัยและสบายขณะขับขี่ พร้อมทั...   \n",
      "454  กางเกงแข่ง 8 ช่องสำหรับสุภาพบุรุษ - เส้นใยสแปน...   \n",
      "187                                               None   \n",
      "195                                               None   \n",
      "\n",
      "                                     GermanDescription  \\\n",
      "540                            Gummi mit hoher Dichte.   \n",
      "253  Mit dem LL-Rahmen fahren Sie sicher und komfor...   \n",
      "454  Rennradhose für Herren - Lycra mit elastischem...   \n",
      "187                                               None   \n",
      "195                                               None   \n",
      "\n",
      "                                   JapaneseDescription  \\\n",
      "540                                            高密度ラバー。   \n",
      "253  LL フレームは、安全で快適に乗ることができ、値打ち価格のアルミニウム フレームで優れた衝撃...   \n",
      "454  男性用 8 枚剥ぎの競技用ショーツ - 伸縮性のあるウエスト バンドとレッグ グリッパー付き...   \n",
      "187                                               None   \n",
      "195                                               None   \n",
      "\n",
      "                                    TurkishDescription  StartDate    EndDate  \\\n",
      "540                          Yüksek yoğunluklu lastik. 2013-07-01        NaT   \n",
      "253  \"LL Kadro güvenli ve konforlu sürüş sunar, değ... 2012-07-01 2008-12-27   \n",
      "454  Erkekler için 8 parçalı yarış şortu - elastik ... 2012-07-01 2008-12-27   \n",
      "187                                               None 2003-07-01        NaT   \n",
      "195                                               None 2003-07-01        NaT   \n",
      "\n",
      "      Status  \n",
      "540  Current  \n",
      "253     None  \n",
      "454     None  \n",
      "187  Current  \n",
      "195  Current  \n",
      "\n",
      "[5 rows x 36 columns]\n"
     ]
    }
   ],
   "source": [
    "print (random_elements)"
   ]
  },
  {
   "cell_type": "code",
   "execution_count": 43,
   "id": "190a9411-a98c-4da5-9b42-9c094c5380b1",
   "metadata": {},
   "outputs": [],
   "source": [
    "# Quali sono i colori disponibili?\n",
    "unique_colors = dimproduct['Color'].dropna().unique()"
   ]
  },
  {
   "cell_type": "code",
   "execution_count": 44,
   "id": "ff29695e-1dd1-488f-85f3-405bdd009c26",
   "metadata": {},
   "outputs": [
    {
     "name": "stdout",
     "output_type": "stream",
     "text": [
      "['NA' 'Black' 'Silver' 'Red' 'White' 'Blue' 'Multi' 'Yellow' 'Grey'\n",
      " 'Silver/Black']\n"
     ]
    }
   ],
   "source": [
    "print (unique_colors)"
   ]
  },
  {
   "cell_type": "code",
   "execution_count": 46,
   "id": "3770f681-ac57-4abe-b925-4745e0bbdce8",
   "metadata": {},
   "outputs": [],
   "source": [
    "# Quanti dati ci sono in totale?\n",
    "total_records = dimproduct.shape[0]\n",
    "\n",
    "# Quali sono i metadati?\n",
    "metadata = dimproduct.dtypes\n",
    "\n",
    "# Stampa il primo elemento\n",
    "first_element = dimproduct.iloc[0]\n",
    "\n",
    "# Stampa l'ultimo elemento\n",
    "last_element = dimproduct.iloc[-1]\n",
    "\n",
    "# Stampa cinque elementi a caso\n",
    "random_elements = dimproduct.sample(5)\n",
    "\n",
    "# Quali sono i colori disponibili?\n",
    "unique_colors = dimproduct['Color'].dropna().unique()\n",
    "\n",
    "# Analisi aggiuntiva\n",
    "# In media quanto pesano i prodotti?\n",
    "average_weight = dimproduct['Weight'].mean()\n",
    "\n",
    "# Quanto pesa il più leggero?\n",
    "min_weight = dimproduct['Weight'].min()\n",
    "\n",
    "# Quanto pesa il più pesante?\n",
    "max_weight = dimproduct['Weight'].max()\n",
    "\n",
    "# Quanti prodotti pesano più di 100 Kg?\n",
    "products_over_100kg = dimproduct[dimproduct['Weight'] > 100].shape[0]\n",
    "\n",
    "# Quanto costano in media i prodotti (colonna DealerPrice)?\n",
    "average_dealer_price = dimproduct['DealerPrice'].mean()\n",
    "\n",
    "# Se prendiamo un quarto di tutti i prodotti, in modo che siano i più costosi, quale sarà il loro range di prezzo?\n",
    "top_quarter = dimproduct.nlargest(int(total_records / 4), 'DealerPrice')\n",
    "price_range_top_quarter = (top_quarter['DealerPrice'].min(), top_quarter['DealerPrice'].max())\n"
   ]
  },
  {
   "cell_type": "code",
   "execution_count": 47,
   "id": "7bbf557a-d910-440a-8343-690562855729",
   "metadata": {},
   "outputs": [
    {
     "name": "stdout",
     "output_type": "stream",
     "text": [
      "56.1932269503546\n"
     ]
    }
   ],
   "source": [
    "print (average_weight)"
   ]
  },
  {
   "cell_type": "code",
   "execution_count": 48,
   "id": "8aa9ee37-7672-4b73-ad19-b16be9c52704",
   "metadata": {},
   "outputs": [
    {
     "name": "stdout",
     "output_type": "stream",
     "text": [
      "2.12\n"
     ]
    }
   ],
   "source": [
    "print (min_weight)"
   ]
  },
  {
   "cell_type": "code",
   "execution_count": 49,
   "id": "c7dcd990-f1bc-480a-a371-9781aae3528e",
   "metadata": {},
   "outputs": [
    {
     "name": "stdout",
     "output_type": "stream",
     "text": [
      "448.5970597468353\n"
     ]
    }
   ],
   "source": [
    "print (average_dealer_price)"
   ]
  },
  {
   "cell_type": "code",
   "execution_count": 51,
   "id": "d050c291-e7d9-44e1-9474-31878db56463",
   "metadata": {},
   "outputs": [],
   "source": [
    "# Quanti dati ci sono in totale?\n",
    "total_records = dimproduct.shape[0]\n",
    "\n",
    "# Quali sono i metadati?\n",
    "metadata = dimproduct.dtypes\n",
    "\n",
    "# Stampa il primo elemento\n",
    "first_element = dimproduct.iloc[0]\n",
    "\n",
    "# Stampa l'ultimo elemento\n",
    "last_element = dimproduct.iloc[-1]\n",
    "\n",
    "# Stampa cinque elementi a caso\n",
    "random_elements = dimproduct.sample(5)\n",
    "\n",
    "# Quali sono i colori disponibili?\n",
    "unique_colors = dimproduct['Color'].dropna().unique()\n",
    "\n",
    "# Analisi aggiuntiva\n",
    "# In media quanto pesano i prodotti?\n",
    "average_weight = dimproduct['Weight'].mean()\n",
    "\n",
    "# Quanto pesa il più leggero?\n",
    "min_weight = dimproduct['Weight'].min()\n",
    "\n",
    "# Quanto pesa il più pesante?\n",
    "max_weight = dimproduct['Weight'].max()\n",
    "\n",
    "# Quanti prodotti pesano più di 100 Kg?\n",
    "products_over_100kg = dimproduct[dimproduct['Weight'] > 100].shape[0]\n",
    "\n",
    "# Quanto costano in media i prodotti (colonna DealerPrice)?\n",
    "average_dealer_price = dimproduct['DealerPrice'].mean()\n",
    "\n",
    "# Se prendiamo un quarto di tutti i prodotti, in modo che siano i più costosi, quale sarà il loro range di prezzo?\n",
    "top_quarter = dimproduct.nlargest(int(total_records / 4), 'DealerPrice')\n",
    "price_range_top_quarter = (top_quarter['DealerPrice'].min(), top_quarter['DealerPrice'].max())\n",
    "\n",
    "# Prezzo medio per i prodotti di colore blu\n",
    "average_price_blue = dimproduct[dimproduct['Color'] == 'Blue']['DealerPrice'].mean()\n",
    "\n",
    "# Prezzo medio per i prodotti di colore rosso o nero\n",
    "average_price_red_black = dimproduct[dimproduct['Color'].isin(['Red', 'Black'])]['DealerPrice'].mean()\n",
    "\n",
    "# Prezzo massimo per i prodotti di taglia 42 e peso oltre i 10 Kg\n",
    "max_price_size_42_weight_over_10kg = dimproduct[(dimproduct['Size'] == '42') & (dimproduct['Weight'] > 10)]['DealerPrice'].max()\n",
    "\n",
    "# Nome inglese e costo di produzione (StandardCost) di tutti i prodotti di taglia 42, peso oltre i 10 Kg e colore argento\n",
    "silver_products_size_42_weight_over_10kg = dimproduct[(dimproduct['Size'] == '42') & (dimproduct['Weight'] > 10) & (dimproduct['Color'] == 'Silver')][['EnglishProductName', 'StandardCost']]\n"
   ]
  },
  {
   "cell_type": "code",
   "execution_count": 52,
   "id": "91b6f217-85cc-4085-91bc-3a3bb285840f",
   "metadata": {},
   "outputs": [
    {
     "name": "stdout",
     "output_type": "stream",
     "text": [
      "\n",
      "Average price of blue products: 516.0631785714286\n",
      "Average price of red or black products: 550.2481873684211\n",
      "Maximum price of size 42 products weighing over 10 Kg: 2039.994\n",
      "\n",
      "English name and StandardCost of silver products, size 42, weight over 10 Kg:\n",
      "            EnglishProductName  StandardCost\n",
      "344    Mountain-100 Silver, 42       1912.15\n",
      "353    Mountain-200 Silver, 42       1117.86\n",
      "354    Mountain-200 Silver, 42       1265.62\n",
      "588  Mountain-400-W Silver, 42        419.78\n",
      "591    Mountain-500 Silver, 42        308.22\n",
      "\n",
      "Cost and price difference of the last 20 elements:\n",
      "     ProductKey ProductAlternateKey  ProductSubcategoryKey  \\\n",
      "586         587          BK-M38S-38                    1.0   \n",
      "587         588          BK-M38S-40                    1.0   \n",
      "588         589          BK-M38S-42                    1.0   \n",
      "589         590          BK-M38S-46                    1.0   \n",
      "590         591          BK-M18S-40                    1.0   \n",
      "591         592          BK-M18S-42                    1.0   \n",
      "592         593          BK-M18S-44                    1.0   \n",
      "593         594          BK-M18S-48                    1.0   \n",
      "594         595          BK-M18S-52                    1.0   \n",
      "595         596          BK-M18B-40                    1.0   \n",
      "596         597          BK-M18B-42                    1.0   \n",
      "597         598          BK-M18B-44                    1.0   \n",
      "598         599          BK-M18B-48                    1.0   \n",
      "599         600          BK-M18B-52                    1.0   \n",
      "600         601             BB-7421                    5.0   \n",
      "601         602             BB-8107                    5.0   \n",
      "602         603             BB-9108                    5.0   \n",
      "603         604          BK-R19B-44                    2.0   \n",
      "604         605          BK-R19B-48                    2.0   \n",
      "605         606          BK-R19B-52                    2.0   \n",
      "\n",
      "    WeightUnitMeasureCode SizeUnitMeasureCode         EnglishProductName  \\\n",
      "586                    LB                  CM  Mountain-400-W Silver, 38   \n",
      "587                    LB                  CM  Mountain-400-W Silver, 40   \n",
      "588                    LB                  CM  Mountain-400-W Silver, 42   \n",
      "589                    LB                  CM  Mountain-400-W Silver, 46   \n",
      "590                    LB                  CM    Mountain-500 Silver, 40   \n",
      "591                    LB                  CM    Mountain-500 Silver, 42   \n",
      "592                    LB                  CM    Mountain-500 Silver, 44   \n",
      "593                    LB                  CM    Mountain-500 Silver, 48   \n",
      "594                    LB                  CM    Mountain-500 Silver, 52   \n",
      "595                    LB                  CM     Mountain-500 Black, 40   \n",
      "596                    LB                  CM     Mountain-500 Black, 42   \n",
      "597                    LB                  CM     Mountain-500 Black, 44   \n",
      "598                    LB                  CM     Mountain-500 Black, 48   \n",
      "599                    LB                  CM     Mountain-500 Black, 52   \n",
      "600                     G                None          LL Bottom Bracket   \n",
      "601                     G                None          ML Bottom Bracket   \n",
      "602                     G                None          HL Bottom Bracket   \n",
      "603                    LB                  CM         Road-750 Black, 44   \n",
      "604                    LB                  CM         Road-750 Black, 48   \n",
      "605                    LB                  CM         Road-750 Black, 52   \n",
      "\n",
      "                        SpanishProductName           FrenchProductName  \\\n",
      "586  Montaña: 400 para mujer, plateada, 38       VTT 400 -W argent, 38   \n",
      "587  Montaña: 400 para mujer, plateada, 40       VTT 400 -W argent, 40   \n",
      "588  Montaña: 400 para mujer, plateada, 42       VTT 400 -W argent, 42   \n",
      "589  Montaña: 400 para mujer, plateada, 46       VTT 400 -W argent, 46   \n",
      "590             Montaña: 500, plateada, 40          VTT 500 argent, 40   \n",
      "591             Montaña: 500, plateada, 42          VTT 500 argent, 42   \n",
      "592             Montaña: 500, plateada, 44          VTT 500 argent, 44   \n",
      "593             Montaña: 500, plateada, 48          VTT 500 argent, 48   \n",
      "594             Montaña: 500, plateada, 52          VTT 500 argent, 52   \n",
      "595                Montaña: 500, negra, 40            VTT 500 noir, 40   \n",
      "596                Montaña: 500, negra, 42            VTT 500 noir, 42   \n",
      "597                Montaña: 500, negra, 44            VTT 500 noir, 44   \n",
      "598                Montaña: 500, negra, 48            VTT 500 noir, 48   \n",
      "599                Montaña: 500, negra, 52            VTT 500 noir, 52   \n",
      "600                     Eje de pedalier GB          Axe de pédalier LL   \n",
      "601                     Eje de pedalier GM          Axe de pédalier ML   \n",
      "602                     Eje de pedalier GA          Axe de pédalier HL   \n",
      "603              Carretera: 750, negra, 44  Vélo de route 750 noir, 44   \n",
      "604              Carretera: 750, negra, 48  Vélo de route 750 noir, 48   \n",
      "605              Carretera: 750, negra, 52  Vélo de route 750 noir, 52   \n",
      "\n",
      "     StandardCost  FinishedGoodsFlag  ...  \\\n",
      "586        419.78                  1  ...   \n",
      "587        419.78                  1  ...   \n",
      "588        419.78                  1  ...   \n",
      "589        419.78                  1  ...   \n",
      "590        308.22                  1  ...   \n",
      "591        308.22                  1  ...   \n",
      "592        308.22                  1  ...   \n",
      "593        308.22                  1  ...   \n",
      "594        308.22                  1  ...   \n",
      "595        294.58                  1  ...   \n",
      "596        294.58                  1  ...   \n",
      "597        294.58                  1  ...   \n",
      "598        294.58                  1  ...   \n",
      "599        294.58                  1  ...   \n",
      "600         23.97                  1  ...   \n",
      "601         44.95                  1  ...   \n",
      "602         53.94                  1  ...   \n",
      "603        343.65                  1  ...   \n",
      "604        343.65                  1  ...   \n",
      "605        343.65                  1  ...   \n",
      "\n",
      "                                     ArabicDescription  \\\n",
      "586  توفر هذه الدراجة مستوى عاليًا من الأداء في حدو...   \n",
      "587  توفر هذه الدراجة مستوى عاليًا من الأداء في حدو...   \n",
      "588  توفر هذه الدراجة مستوى عاليًا من الأداء في حدو...   \n",
      "589  توفر هذه الدراجة مستوى عاليًا من الأداء في حدو...   \n",
      "590  ملائمة لأي نوع من أنواع القيادة، سواءً على الط...   \n",
      "591  ملائمة لأي نوع من أنواع القيادة، سواءً على الط...   \n",
      "592  ملائمة لأي نوع من أنواع القيادة، سواءً على الط...   \n",
      "593  ملائمة لأي نوع من أنواع القيادة، سواءً على الط...   \n",
      "594  ملائمة لأي نوع من أنواع القيادة، سواءً على الط...   \n",
      "595  ملائمة لأي نوع من أنواع القيادة، سواءً على الط...   \n",
      "596  ملائمة لأي نوع من أنواع القيادة، سواءً على الط...   \n",
      "597  ملائمة لأي نوع من أنواع القيادة، سواءً على الط...   \n",
      "598  ملائمة لأي نوع من أنواع القيادة، سواءً على الط...   \n",
      "599  ملائمة لأي نوع من أنواع القيادة، سواءً على الط...   \n",
      "600                                  الفولاذ الكرومولي   \n",
      "601  فناجين من سبيكة الألومنيوم؛ ذات محور دوران كبي...   \n",
      "602             فناجين من سبيكة الألومنيوم ومحور أجوف.   \n",
      "603  إنها دراجة مناسبة للمبتدئين من البالغين؛ فهي ت...   \n",
      "604  إنها دراجة مناسبة للمبتدئين من البالغين؛ فهي ت...   \n",
      "605  إنها دراجة مناسبة للمبتدئين من البالغين؛ فهي ت...   \n",
      "\n",
      "                                     HebrewDescription  \\\n",
      "586  אופניים אלה מספקים רמת ביצועים גבוהה במחיר סבי...   \n",
      "587  אופניים אלה מספקים רמת ביצועים גבוהה במחיר סבי...   \n",
      "588  אופניים אלה מספקים רמת ביצועים גבוהה במחיר סבי...   \n",
      "589  אופניים אלה מספקים רמת ביצועים גבוהה במחיר סבי...   \n",
      "590  מתאימים לכל סוג רכיבה, בדרכים סלולות ובשבילים ...   \n",
      "591  מתאימים לכל סוג רכיבה, בדרכים סלולות ובשבילים ...   \n",
      "592  מתאימים לכל סוג רכיבה, בדרכים סלולות ובשבילים ...   \n",
      "593  מתאימים לכל סוג רכיבה, בדרכים סלולות ובשבילים ...   \n",
      "594  מתאימים לכל סוג רכיבה, בדרכים סלולות ובשבילים ...   \n",
      "595  מתאימים לכל סוג רכיבה, בדרכים סלולות ובשבילים ...   \n",
      "596  מתאימים לכל סוג רכיבה, בדרכים סלולות ובשבילים ...   \n",
      "597  מתאימים לכל סוג רכיבה, בדרכים סלולות ובשבילים ...   \n",
      "598  מתאימים לכל סוג רכיבה, בדרכים סלולות ובשבילים ...   \n",
      "599  מתאימים לכל סוג רכיבה, בדרכים סלולות ובשבילים ...   \n",
      "600                     פלדת כרומולי (כרום-מולובדניום)   \n",
      "601           כיסויים מסגסוגת אלומיניום; ציר רחב-קוטר.   \n",
      "602               כיסויים מסגסוגת אלומיניום וציר חלול.   \n",
      "603  אופני מבוגרים למתחילים; מציעים רכיבה נוחה \"מחו...   \n",
      "604  אופני מבוגרים למתחילים; מציעים רכיבה נוחה \"מחו...   \n",
      "605  אופני מבוגרים למתחילים; מציעים רכיבה נוחה \"מחו...   \n",
      "\n",
      "                                       ThaiDescription  \\\n",
      "586  จักรยานรุ่นนี้มีประสิทธิภาพสูง ในราคาประหยัด  ...   \n",
      "587  จักรยานรุ่นนี้มีประสิทธิภาพสูง ในราคาประหยัด  ...   \n",
      "588  จักรยานรุ่นนี้มีประสิทธิภาพสูง ในราคาประหยัด  ...   \n",
      "589  จักรยานรุ่นนี้มีประสิทธิภาพสูง ในราคาประหยัด  ...   \n",
      "590  เหมาะสำหรับการขี่ทุกประเภท ทั้งบนถนนและแบบออฟโ...   \n",
      "591  เหมาะสำหรับการขี่ทุกประเภท ทั้งบนถนนและแบบออฟโ...   \n",
      "592  เหมาะสำหรับการขี่ทุกประเภท ทั้งบนถนนและแบบออฟโ...   \n",
      "593  เหมาะสำหรับการขี่ทุกประเภท ทั้งบนถนนและแบบออฟโ...   \n",
      "594  เหมาะสำหรับการขี่ทุกประเภท ทั้งบนถนนและแบบออฟโ...   \n",
      "595  เหมาะสำหรับการขี่ทุกประเภท ทั้งบนถนนและแบบออฟโ...   \n",
      "596  เหมาะสำหรับการขี่ทุกประเภท ทั้งบนถนนและแบบออฟโ...   \n",
      "597  เหมาะสำหรับการขี่ทุกประเภท ทั้งบนถนนและแบบออฟโ...   \n",
      "598  เหมาะสำหรับการขี่ทุกประเภท ทั้งบนถนนและแบบออฟโ...   \n",
      "599  เหมาะสำหรับการขี่ทุกประเภท ทั้งบนถนนและแบบออฟโ...   \n",
      "600                                        โลหะโครโมลี   \n",
      "601              ดุมอลูมิเนียมอัลลอยด์ แกนเพลาขนาดใหญ่   \n",
      "602                   ดุมอลูมิเนียมอัลลอยด์และเพลากลวง   \n",
      "603  จักรยานระดับเริ่มต้นสำหรับผู้ใหญ่ ให้ความสบายใ...   \n",
      "604  จักรยานระดับเริ่มต้นสำหรับผู้ใหญ่ ให้ความสบายใ...   \n",
      "605  จักรยานระดับเริ่มต้นสำหรับผู้ใหญ่ ให้ความสบายใ...   \n",
      "\n",
      "                                     GermanDescription  \\\n",
      "586  Dieses Fahrrad bietet ein erstklassiges Preis-...   \n",
      "587  Dieses Fahrrad bietet ein erstklassiges Preis-...   \n",
      "588  Dieses Fahrrad bietet ein erstklassiges Preis-...   \n",
      "589  Dieses Fahrrad bietet ein erstklassiges Preis-...   \n",
      "590  Geeignet für Straße und Gelände. Für jedes Bud...   \n",
      "591  Geeignet für Straße und Gelände. Für jedes Bud...   \n",
      "592  Geeignet für Straße und Gelände. Für jedes Bud...   \n",
      "593  Geeignet für Straße und Gelände. Für jedes Bud...   \n",
      "594  Geeignet für Straße und Gelände. Für jedes Bud...   \n",
      "595  Geeignet für Straße und Gelände. Für jedes Bud...   \n",
      "596  Geeignet für Straße und Gelände. Für jedes Bud...   \n",
      "597  Geeignet für Straße und Gelände. Für jedes Bud...   \n",
      "598  Geeignet für Straße und Gelände. Für jedes Bud...   \n",
      "599  Geeignet für Straße und Gelände. Für jedes Bud...   \n",
      "600                                        Chromstahl.   \n",
      "601  Außenringe aus Aluminiumlegierung; Radachse mi...   \n",
      "602  Außenringe aus Aluminiumlegierung und hohle Ac...   \n",
      "603  Ein Erwachsenenrad für Einsteiger; bietet Komf...   \n",
      "604  Ein Erwachsenenrad für Einsteiger; bietet Komf...   \n",
      "605  Ein Erwachsenenrad für Einsteiger; bietet Komf...   \n",
      "\n",
      "                                   JapaneseDescription  \\\n",
      "586  この自転車は予算内で高性能を提供します。応答性と操作性に優れ、オフロードでもゆったりした気分...   \n",
      "587  この自転車は予算内で高性能を提供します。応答性と操作性に優れ、オフロードでもゆったりした気分...   \n",
      "588  この自転車は予算内で高性能を提供します。応答性と操作性に優れ、オフロードでもゆったりした気分...   \n",
      "589  この自転車は予算内で高性能を提供します。応答性と操作性に優れ、オフロードでもゆったりした気分...   \n",
      "590    オンロードにもオフロードにも対応しながら、予算を選ばず、スムーズなシフトで快適な乗り心地です。   \n",
      "591    オンロードにもオフロードにも対応しながら、予算を選ばず、スムーズなシフトで快適な乗り心地です。   \n",
      "592    オンロードにもオフロードにも対応しながら、予算を選ばず、スムーズなシフトで快適な乗り心地です。   \n",
      "593    オンロードにもオフロードにも対応しながら、予算を選ばず、スムーズなシフトで快適な乗り心地です。   \n",
      "594    オンロードにもオフロードにも対応しながら、予算を選ばず、スムーズなシフトで快適な乗り心地です。   \n",
      "595    オンロードにもオフロードにも対応しながら、予算を選ばず、スムーズなシフトで快適な乗り心地です。   \n",
      "596    オンロードにもオフロードにも対応しながら、予算を選ばず、スムーズなシフトで快適な乗り心地です。   \n",
      "597    オンロードにもオフロードにも対応しながら、予算を選ばず、スムーズなシフトで快適な乗り心地です。   \n",
      "598    オンロードにもオフロードにも対応しながら、予算を選ばず、スムーズなシフトで快適な乗り心地です。   \n",
      "599    オンロードにもオフロードにも対応しながら、予算を選ばず、スムーズなシフトで快適な乗り心地です。   \n",
      "600                                              クロム鋼。   \n",
      "601                               アルミニウム合金カップ、大径スピンドル。   \n",
      "602                              アルミニウム合金カップとホロー アクスル。   \n",
      "603  エントリー レベルに対応する、クロスカントリーにも街への買い物にも快適な、大人の自転車。ハブ...   \n",
      "604  エントリー レベルに対応する、クロスカントリーにも街への買い物にも快適な、大人の自転車。ハブ...   \n",
      "605  エントリー レベルに対応する、クロスカントリーにも街への買い物にも快適な、大人の自転車。ハブ...   \n",
      "\n",
      "                                    TurkishDescription  StartDate  EndDate  \\\n",
      "586  \"Bu bisiklet hem hesaplıdır, hem de yüksek sev... 2013-07-01      NaT   \n",
      "587  \"Bu bisiklet hem hesaplıdır, hem de yüksek sev... 2013-07-01      NaT   \n",
      "588  \"Bu bisiklet hem hesaplıdır, hem de yüksek sev... 2013-07-01      NaT   \n",
      "589  \"Bu bisiklet hem hesaplıdır, hem de yüksek sev... 2013-07-01      NaT   \n",
      "590  Yolda veya arazide her tür sürüşe uygundur. He... 2013-07-01      NaT   \n",
      "591  Yolda veya arazide her tür sürüşe uygundur. He... 2013-07-01      NaT   \n",
      "592  Yolda veya arazide her tür sürüşe uygundur. He... 2013-07-01      NaT   \n",
      "593  Yolda veya arazide her tür sürüşe uygundur. He... 2013-07-01      NaT   \n",
      "594  Yolda veya arazide her tür sürüşe uygundur. He... 2013-07-01      NaT   \n",
      "595  Yolda veya arazide her tür sürüşe uygundur. He... 2013-07-01      NaT   \n",
      "596  Yolda veya arazide her tür sürüşe uygundur. He... 2013-07-01      NaT   \n",
      "597  Yolda veya arazide her tür sürüşe uygundur. He... 2013-07-01      NaT   \n",
      "598  Yolda veya arazide her tür sürüşe uygundur. He... 2013-07-01      NaT   \n",
      "599  Yolda veya arazide her tür sürüşe uygundur. He... 2013-07-01      NaT   \n",
      "600                                     Kromoli çelik. 2013-07-01      NaT   \n",
      "601  Alüminyum alaşımı orta göbekler; geniş çaplı mil. 2013-07-01      NaT   \n",
      "602    Alüminyum alaşımı orta göbekler ve içi boş aks. 2013-07-01      NaT   \n",
      "603  \"Başlangıç seviyesinde yetişkin bisikleti, kır... 2013-07-01      NaT   \n",
      "604  \"Başlangıç seviyesinde yetişkin bisikleti, kır... 2013-07-01      NaT   \n",
      "605  \"Başlangıç seviyesinde yetişkin bisikleti, kır... 2013-07-01      NaT   \n",
      "\n",
      "      Status  CostPriceDifference  \n",
      "586  Current               41.914  \n",
      "587  Current               41.914  \n",
      "588  Current               41.914  \n",
      "589  Current               41.914  \n",
      "590  Current               30.774  \n",
      "591  Current               30.774  \n",
      "592  Current               30.774  \n",
      "593  Current               30.774  \n",
      "594  Current               30.774  \n",
      "595  Current               29.414  \n",
      "596  Current               29.414  \n",
      "597  Current               29.414  \n",
      "598  Current               29.414  \n",
      "599  Current               29.414  \n",
      "600  Current                8.424  \n",
      "601  Current               15.794  \n",
      "602  Current               18.954  \n",
      "603  Current              -19.656  \n",
      "604  Current              -19.656  \n",
      "605  Current              -19.656  \n",
      "\n",
      "[20 rows x 37 columns]\n",
      "\n",
      "Summary statistics of cost and price difference of the last 20 elements:\n",
      "count    20.000000\n",
      "mean     22.640000\n",
      "std      20.099224\n",
      "min     -19.656000\n",
      "25%      18.164000\n",
      "50%      29.414000\n",
      "75%      30.774000\n",
      "max      41.914000\n",
      "Name: CostPriceDifference, dtype: float64\n"
     ]
    }
   ],
   "source": [
    "print(f\"\\nAverage price of blue products: {average_price_blue}\")\n",
    "print(f\"Average price of red or black products: {average_price_red_black}\")\n",
    "print(f\"Maximum price of size 42 products weighing over 10 Kg: {max_price_size_42_weight_over_10kg}\")\n",
    "\n",
    "print(\"\\nEnglish name and StandardCost of silver products, size 42, weight over 10 Kg:\")\n",
    "print(silver_products_size_42_weight_over_10kg)\n",
    "\n",
    "print(\"\\nCost and price difference of the last 20 elements:\")\n",
    "print(last_20_elements)\n",
    "\n",
    "# Identifica pattern nella differenza tra StandardCost e DealerPrice degli ultimi 20 elementi\n",
    "cost_price_pattern = last_20_elements['CostPriceDifference'].describe()\n",
    "print(\"\\nSummary statistics of cost and price difference of the last 20 elements:\")\n",
    "print(cost_price_pattern)"
   ]
  },
  {
   "cell_type": "code",
   "execution_count": null,
   "id": "fc4aa339-976d-4375-b315-cf9599601a41",
   "metadata": {},
   "outputs": [],
   "source": []
  }
 ],
 "metadata": {
  "kernelspec": {
   "display_name": "Python 3 (ipykernel)",
   "language": "python",
   "name": "python3"
  },
  "language_info": {
   "codemirror_mode": {
    "name": "ipython",
    "version": 3
   },
   "file_extension": ".py",
   "mimetype": "text/x-python",
   "name": "python",
   "nbconvert_exporter": "python",
   "pygments_lexer": "ipython3",
   "version": "3.11.7"
  }
 },
 "nbformat": 4,
 "nbformat_minor": 5
}
